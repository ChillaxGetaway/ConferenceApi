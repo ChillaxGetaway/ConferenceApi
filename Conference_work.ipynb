{
 "cells": [
  {
   "cell_type": "code",
   "execution_count": 33,
   "metadata": {},
   "outputs": [
    {
     "data": {
      "text/plain": [
       "<Response [400]>"
      ]
     },
     "execution_count": 33,
     "metadata": {},
     "output_type": "execute_result"
    }
   ],
   "source": [
    "a=0\n",
    "CountriesAttendies={}\n",
    "\n",
    "import requests\n",
    "\n",
    "data = requests.get('https://ct-mock-tech-assessment.herokuapp.com/').json()['partners']\n",
    "\n",
    "\n",
    "class Attendees:\n",
    "    person = []\n",
    "\n",
    "    def __init__(self,   name, country, email, available):\n",
    "        self.name = name\n",
    "        self.country = country\n",
    "        self.email = email\n",
    "        self.available = str(available)\n",
    "        self.person.append(self)\n",
    "\n",
    "    def __repr__(self):\n",
    "        return f'<Attendees: {self.country} >'\n",
    "\n",
    "\n",
    "for i in data:\n",
    "    Attendees(\n",
    "        name=i['firstName']+\" \"+i['lastName'],\n",
    "        country=i['country'],\n",
    "        email=i['email'],\n",
    "        available=i['availableDates']\n",
    "    )\n",
    "    \n",
    "for i in data:\n",
    "    if Attendees.person[a].country in CountriesAttendies :\n",
    "        CountriesAttendies[Attendees.person[a].country].append(Attendees.person[a].__dict__)\n",
    "        a+=1\n",
    "    else:  \n",
    "        CountriesAttendies[Attendees.person[a].country] = [Attendees.person[a].__dict__]\n",
    "\n",
    "\n",
    "url='https://ct-mock-tech-assessment.herokuapp.com/'\n",
    "requests.post('https://ct-mock-tech-assessment.herokuapp.com/')\n",
    "\n",
    "\n",
    "\n"
   ]
  }
 ],
 "metadata": {
  "interpreter": {
   "hash": "40d3a090f54c6569ab1632332b64b2c03c39dcf918b08424e98f38b5ae0af88f"
  },
  "kernelspec": {
   "display_name": "Python 3.8.8 64-bit ('base': conda)",
   "language": "python",
   "name": "python3"
  },
  "language_info": {
   "codemirror_mode": {
    "name": "ipython",
    "version": 3
   },
   "file_extension": ".py",
   "mimetype": "text/x-python",
   "name": "python",
   "nbconvert_exporter": "python",
   "pygments_lexer": "ipython3",
   "version": "3.8.8"
  },
  "orig_nbformat": 4
 },
 "nbformat": 4,
 "nbformat_minor": 2
}
